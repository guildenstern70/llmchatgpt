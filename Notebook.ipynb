{
 "cells": [
  {
   "cell_type": "markdown",
   "source": [
    "# LLM with OpenAI ChatGPT\n",
    "\n",
    "## for question answering\n",
    "\n",
    "See https://colab.research.google.com/drive/1OUHnyQevDJA1p_tDDUqfWdxKfwRCz1Xt?usp=sharing\n"
   ],
   "metadata": {
    "collapsed": false
   },
   "id": "c6c72a857b49a396"
  },
  {
   "cell_type": "code",
   "execution_count": 1,
   "outputs": [],
   "source": [
    "from transformers import (\n",
    "    AutoTokenizer,\n",
    "    AutoModelForCausalLM,\n",
    "    DataCollatorForLanguageModeling,\n",
    "    Trainer,\n",
    "    TrainingArguments,\n",
    ")\n",
    "from datasets import load_dataset\n"
   ],
   "metadata": {
    "collapsed": false,
    "ExecuteTime": {
     "end_time": "2023-10-24T12:56:37.869798Z",
     "start_time": "2023-10-24T12:56:35.507542Z"
    }
   },
   "id": "6ef8621bd7c55994"
  },
  {
   "cell_type": "code",
   "execution_count": 2,
   "outputs": [
    {
     "data": {
      "text/plain": "                                              instruction  \\\n177101  What are the international guidelines for avoi...   \n427175          Explain quantum computing in simple terms   \n427912  Please learn from https://openapi.iotera.io/#/...   \n23327              Name two classic films from the 1950s?   \n369439  Find out whether the given number is even or o...   \n228129  Create a method which receives a list of names...   \n408752  I have a string which consists of lowercase le...   \n197764  Suggest a function to convert a given tuple of...   \n50190   Given a list of names, sort the list alphabeti...   \n359294  Given a year, find out what season it was. out...   \n67791   Is the following text an opinion piece, or doe...   \n496025       Is it OK to water succulents with tap water.   \n484934         What are the best places to eat in Boston.   \n168209                     How do I fix a running toilet.   \n385600  Explain why you chose the major that you are c...   \n320123  Analyze the following passage and classify the...   \n140234  Create a short news headline about a breakthro...   \n109525  Classify the emotion of the sentence. output o...   \n371661  Write a python function that takes in a string...   \n457622  Please have a look at my PowerShell script and...   \n\n                                                    input  \\\n177101                                                      \n427175                                                      \n427912                                                      \n23327                                                       \n369439                                                      \n228129                                                      \n408752                                                      \n197764                                                      \n50190                           Names: Arthur, Bob, Louis   \n359294                                                      \n67791                                                       \n496025                                                      \n484934                                                      \n168209                                                      \n385600                                                      \n320123  'It was a dark and stormy night; the rain fell...   \n140234                                                      \n109525                                                      \n371661                                                      \n457622                                                      \n\n                                                   output  \n177101  The international guidelines for avoiding iden...  \n427175  Quantum computing is a type of computing that ...  \n427912  To create a Python script that fetches device ...  \n23327   Two classic films from the 1950s are \"Rebel Wi...  \n369439                                                Odd  \n228129  \"\"\"\\nCreate a method which receives a list of ...  \n408752                                               True  \n197764  def tuple_to_dict(tup):\\n    return {tup[i] : ...  \n50190                                  Arthur, Bob, Louis  \n359294                                             Winter  \n67791                                             Opinion  \n496025  It depends on the type of succulent and the qu...  \n484934  The best places to eat in Boston depend on the...  \n168209  To fix a running toilet, you'll need to first ...  \n385600  I chose to study Computer Science because I've...  \n320123  The author's tone in this passage is ominous a...  \n140234  News headline: 'Revolutionary Solar Panels Set...  \n109525                                           Surprise  \n371661  def countVowels(word):\\n    vowels = 0\\n    co...  \n457622  This script looks like it is creating a resour...  ",
      "text/html": "<div>\n<style scoped>\n    .dataframe tbody tr th:only-of-type {\n        vertical-align: middle;\n    }\n\n    .dataframe tbody tr th {\n        vertical-align: top;\n    }\n\n    .dataframe thead th {\n        text-align: right;\n    }\n</style>\n<table border=\"1\" class=\"dataframe\">\n  <thead>\n    <tr style=\"text-align: right;\">\n      <th></th>\n      <th>instruction</th>\n      <th>input</th>\n      <th>output</th>\n    </tr>\n  </thead>\n  <tbody>\n    <tr>\n      <th>177101</th>\n      <td>What are the international guidelines for avoi...</td>\n      <td></td>\n      <td>The international guidelines for avoiding iden...</td>\n    </tr>\n    <tr>\n      <th>427175</th>\n      <td>Explain quantum computing in simple terms</td>\n      <td></td>\n      <td>Quantum computing is a type of computing that ...</td>\n    </tr>\n    <tr>\n      <th>427912</th>\n      <td>Please learn from https://openapi.iotera.io/#/...</td>\n      <td></td>\n      <td>To create a Python script that fetches device ...</td>\n    </tr>\n    <tr>\n      <th>23327</th>\n      <td>Name two classic films from the 1950s?</td>\n      <td></td>\n      <td>Two classic films from the 1950s are \"Rebel Wi...</td>\n    </tr>\n    <tr>\n      <th>369439</th>\n      <td>Find out whether the given number is even or o...</td>\n      <td></td>\n      <td>Odd</td>\n    </tr>\n    <tr>\n      <th>228129</th>\n      <td>Create a method which receives a list of names...</td>\n      <td></td>\n      <td>\"\"\"\\nCreate a method which receives a list of ...</td>\n    </tr>\n    <tr>\n      <th>408752</th>\n      <td>I have a string which consists of lowercase le...</td>\n      <td></td>\n      <td>True</td>\n    </tr>\n    <tr>\n      <th>197764</th>\n      <td>Suggest a function to convert a given tuple of...</td>\n      <td></td>\n      <td>def tuple_to_dict(tup):\\n    return {tup[i] : ...</td>\n    </tr>\n    <tr>\n      <th>50190</th>\n      <td>Given a list of names, sort the list alphabeti...</td>\n      <td>Names: Arthur, Bob, Louis</td>\n      <td>Arthur, Bob, Louis</td>\n    </tr>\n    <tr>\n      <th>359294</th>\n      <td>Given a year, find out what season it was. out...</td>\n      <td></td>\n      <td>Winter</td>\n    </tr>\n    <tr>\n      <th>67791</th>\n      <td>Is the following text an opinion piece, or doe...</td>\n      <td></td>\n      <td>Opinion</td>\n    </tr>\n    <tr>\n      <th>496025</th>\n      <td>Is it OK to water succulents with tap water.</td>\n      <td></td>\n      <td>It depends on the type of succulent and the qu...</td>\n    </tr>\n    <tr>\n      <th>484934</th>\n      <td>What are the best places to eat in Boston.</td>\n      <td></td>\n      <td>The best places to eat in Boston depend on the...</td>\n    </tr>\n    <tr>\n      <th>168209</th>\n      <td>How do I fix a running toilet.</td>\n      <td></td>\n      <td>To fix a running toilet, you'll need to first ...</td>\n    </tr>\n    <tr>\n      <th>385600</th>\n      <td>Explain why you chose the major that you are c...</td>\n      <td></td>\n      <td>I chose to study Computer Science because I've...</td>\n    </tr>\n    <tr>\n      <th>320123</th>\n      <td>Analyze the following passage and classify the...</td>\n      <td>'It was a dark and stormy night; the rain fell...</td>\n      <td>The author's tone in this passage is ominous a...</td>\n    </tr>\n    <tr>\n      <th>140234</th>\n      <td>Create a short news headline about a breakthro...</td>\n      <td></td>\n      <td>News headline: 'Revolutionary Solar Panels Set...</td>\n    </tr>\n    <tr>\n      <th>109525</th>\n      <td>Classify the emotion of the sentence. output o...</td>\n      <td></td>\n      <td>Surprise</td>\n    </tr>\n    <tr>\n      <th>371661</th>\n      <td>Write a python function that takes in a string...</td>\n      <td></td>\n      <td>def countVowels(word):\\n    vowels = 0\\n    co...</td>\n    </tr>\n    <tr>\n      <th>457622</th>\n      <td>Please have a look at my PowerShell script and...</td>\n      <td></td>\n      <td>This script looks like it is creating a resour...</td>\n    </tr>\n  </tbody>\n</table>\n</div>"
     },
     "execution_count": 2,
     "metadata": {},
     "output_type": "execute_result"
    }
   ],
   "source": [
    "# Load dataset\n",
    "\n",
    "dataset = load_dataset(\"hakurei/open-instruct-v1\", split='train')\n",
    "dataset.to_pandas().sample(20)\n",
    "\n"
   ],
   "metadata": {
    "collapsed": false,
    "ExecuteTime": {
     "end_time": "2023-10-24T12:56:43.308207Z",
     "start_time": "2023-10-24T12:56:37.869234Z"
    }
   },
   "id": "ae6877b60354e1dd"
  },
  {
   "cell_type": "code",
   "execution_count": 3,
   "outputs": [],
   "source": [
    "def preprocess(example):\n",
    "    example['prompt'] = f\"{example['instruction']} {example['input']} {example['output']}\"\n",
    "    return example\n",
    "\n",
    "def tokenize_datasets(dataset):\n",
    "    tokenized_dataset = dataset.map(lambda example: tokenizer(example['prompt'], truncation=True, max_length=128), batched=True, remove_columns=['prompt'])\n",
    "    return tokenized_dataset"
   ],
   "metadata": {
    "collapsed": false,
    "ExecuteTime": {
     "end_time": "2023-10-24T12:56:53.655773Z",
     "start_time": "2023-10-24T12:56:53.641981Z"
    }
   },
   "id": "ec716724b2a29dee"
  },
  {
   "cell_type": "code",
   "execution_count": 4,
   "outputs": [
    {
     "data": {
      "text/plain": "Map:   0%|          | 0/498813 [00:00<?, ? examples/s]",
      "application/vnd.jupyter.widget-view+json": {
       "version_major": 2,
       "version_minor": 0,
       "model_id": "fa94b23f6f7845cdbf4f7f1b7c75c59c"
      }
     },
     "metadata": {},
     "output_type": "display_data"
    }
   ],
   "source": [
    "# Set train partition\n",
    "dataset = dataset.map(preprocess, remove_columns=['instruction', 'input', 'output'])\n",
    "dataset =  dataset.shuffle(42).select(range(100000)).train_test_split(test_size=0.1, seed=42)\n"
   ],
   "metadata": {
    "collapsed": false,
    "ExecuteTime": {
     "end_time": "2023-10-24T12:57:04.992018Z",
     "start_time": "2023-10-24T12:56:54.838686Z"
    }
   },
   "id": "3dd55b6461ed6031"
  },
  {
   "cell_type": "code",
   "execution_count": 5,
   "outputs": [],
   "source": [
    "# Set test and train data\n",
    "train_dataset = dataset['train']\n",
    "test_dataset = dataset['test']\n"
   ],
   "metadata": {
    "collapsed": false,
    "ExecuteTime": {
     "end_time": "2023-10-24T12:57:06.355761Z",
     "start_time": "2023-10-24T12:57:06.348610Z"
    }
   },
   "id": "5a203efa43872bad"
  },
  {
   "cell_type": "code",
   "execution_count": 6,
   "outputs": [
    {
     "data": {
      "text/plain": "Map:   0%|          | 0/90000 [00:00<?, ? examples/s]",
      "application/vnd.jupyter.widget-view+json": {
       "version_major": 2,
       "version_minor": 0,
       "model_id": "3cb40292320645148427d072bc3e953a"
      }
     },
     "metadata": {},
     "output_type": "display_data"
    },
    {
     "data": {
      "text/plain": "Map:   0%|          | 0/10000 [00:00<?, ? examples/s]",
      "application/vnd.jupyter.widget-view+json": {
       "version_major": 2,
       "version_minor": 0,
       "model_id": "c59c7d97ca12486f9e5414f9562b2f9d"
      }
     },
     "metadata": {},
     "output_type": "display_data"
    }
   ],
   "source": [
    "# Set model (DialoGPT)\n",
    "\n",
    "MODEL_NAME = \"microsoft/DialoGPT-medium\"\n",
    "\n",
    "tokenizer = AutoTokenizer.from_pretrained(MODEL_NAME)\n",
    "tokenizer.pad_token = tokenizer.eos_token\n",
    "\n",
    "train_dataset = tokenize_datasets(train_dataset)\n",
    "test_dataset = tokenize_datasets(test_dataset)\n",
    "\n",
    "model = AutoModelForCausalLM.from_pretrained(MODEL_NAME)"
   ],
   "metadata": {
    "collapsed": false,
    "ExecuteTime": {
     "end_time": "2023-10-24T12:57:18.515946Z",
     "start_time": "2023-10-24T12:57:07.363837Z"
    }
   },
   "id": "3280799fb1a31734"
  },
  {
   "cell_type": "code",
   "execution_count": 7,
   "outputs": [
    {
     "name": "stderr",
     "output_type": "stream",
     "text": [
      "2023-10-24 14:57:24.497 python[6371:146804] apply_selection_policy_once: avoid use of removable GPUs (via (null):GPUSelectionPolicy->avoidRemovable)\n"
     ]
    }
   ],
   "source": [
    "# Train model\n",
    "data_collator = DataCollatorForLanguageModeling(tokenizer=tokenizer, mlm=False)\n",
    "\n",
    "training_args = TrainingArguments(output_dir=\"models/diablo_gpt\",\n",
    "                                num_train_epochs=1,\n",
    "                                per_device_train_batch_size=32,\n",
    "                                per_device_eval_batch_size=32) \n",
    " \n",
    "trainer = Trainer(model=model,\n",
    "                  args=training_args,\n",
    "                  train_dataset=train_dataset,\n",
    "                  eval_dataset=test_dataset,\n",
    "                  data_collator=data_collator)"
   ],
   "metadata": {
    "collapsed": false,
    "ExecuteTime": {
     "end_time": "2023-10-24T12:57:24.829803Z",
     "start_time": "2023-10-24T12:57:24.481784Z"
    }
   },
   "id": "f3b99f5ddc6e71d2"
  },
  {
   "cell_type": "code",
   "execution_count": 8,
   "outputs": [
    {
     "data": {
      "text/plain": "(…)T_open-instruct/resolve/main/config.json:   0%|          | 0.00/905 [00:00<?, ?B/s]",
      "application/vnd.jupyter.widget-view+json": {
       "version_major": 2,
       "version_minor": 0,
       "model_id": "3f10df6144804643a5c5543194f573f6"
      }
     },
     "metadata": {},
     "output_type": "display_data"
    },
    {
     "data": {
      "text/plain": "pytorch_model.bin:   0%|          | 0.00/1.44G [00:00<?, ?B/s]",
      "application/vnd.jupyter.widget-view+json": {
       "version_major": 2,
       "version_minor": 0,
       "model_id": "5fce7490fdae491a94620af2eb171661"
      }
     },
     "metadata": {},
     "output_type": "display_data"
    },
    {
     "data": {
      "text/plain": "(…)ruct/resolve/main/generation_config.json:   0%|          | 0.00/119 [00:00<?, ?B/s]",
      "application/vnd.jupyter.widget-view+json": {
       "version_major": 2,
       "version_minor": 0,
       "model_id": "1f202b49454d46c1807cb314811c6484"
      }
     },
     "metadata": {},
     "output_type": "display_data"
    }
   ],
   "source": [
    "# Get the trained checkpoint directly\n",
    "model = AutoModelForCausalLM.from_pretrained(\"TheFuzzyScientist/diabloGPT_open-instruct\")"
   ],
   "metadata": {
    "collapsed": false,
    "ExecuteTime": {
     "end_time": "2023-10-24T13:00:39.950118Z",
     "start_time": "2023-10-24T12:57:43.588982Z"
    }
   },
   "id": "c63cd4d0eb90c0d4"
  },
  {
   "cell_type": "code",
   "execution_count": 11,
   "outputs": [],
   "source": [
    "def generate_text(prompt):\n",
    "    inputs = tokenizer.encode(prompt, return_tensors='pt')\n",
    "    outputs = model.generate(inputs, max_length=64, pad_token_id=tokenizer.eos_token_id)\n",
    "    generated = tokenizer.decode(outputs[0], skip_special_tokens=True)\n",
    "\n",
    "    return generated[:generated.rfind('.')+1]"
   ],
   "metadata": {
    "collapsed": false,
    "ExecuteTime": {
     "end_time": "2023-10-24T13:02:07.315733Z",
     "start_time": "2023-10-24T13:02:07.304186Z"
    }
   },
   "id": "c666f3ccfa45ee68"
  },
  {
   "cell_type": "code",
   "execution_count": 12,
   "outputs": [
    {
     "data": {
      "text/plain": "\"What's the best way to cook chiken breast?  The best way to cook chiken breast is to season it with salt and pepper, then heat a pan over medium heat. Add a tablespoon of olive oil and cook for about 5 minutes, stirring occasionally.\""
     },
     "execution_count": 12,
     "metadata": {},
     "output_type": "execute_result"
    }
   ],
   "source": [
    "generate_text(\"What's the best way to cook chiken breast?\")"
   ],
   "metadata": {
    "collapsed": false,
    "ExecuteTime": {
     "end_time": "2023-10-24T13:02:11.466055Z",
     "start_time": "2023-10-24T13:02:08.547544Z"
    }
   },
   "id": "c04d301a4d230373"
  },
  {
   "cell_type": "code",
   "execution_count": null,
   "outputs": [],
   "source": [],
   "metadata": {
    "collapsed": false
   },
   "id": "a08f5ef257bce831"
  }
 ],
 "metadata": {
  "kernelspec": {
   "display_name": "Python 3",
   "language": "python",
   "name": "python3"
  },
  "language_info": {
   "codemirror_mode": {
    "name": "ipython",
    "version": 2
   },
   "file_extension": ".py",
   "mimetype": "text/x-python",
   "name": "python",
   "nbconvert_exporter": "python",
   "pygments_lexer": "ipython2",
   "version": "2.7.6"
  }
 },
 "nbformat": 4,
 "nbformat_minor": 5
}
